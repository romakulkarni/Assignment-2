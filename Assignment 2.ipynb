{
 "cells": [
  {
   "cell_type": "raw",
   "id": "10e0cb9b-f0b2-49cb-bb48-55311fc1c461",
   "metadata": {},
   "source": [
    "1.What are the two values of the Boolean data type? How do you write them?\n",
    "  Ans- The two values of Boolean data type are true and false.\n",
    "       True is written as 1 and False as 0\n"
   ]
  },
  {
   "cell_type": "code",
   "execution_count": 5,
   "id": "72d361ef-3321-4bff-af86-9aa9b716918f",
   "metadata": {},
   "outputs": [
    {
     "name": "stdout",
     "output_type": "stream",
     "text": [
      "<class 'bool'>\n",
      "<class 'bool'>\n"
     ]
    }
   ],
   "source": [
    "A=True\n",
    "B=False\n",
    "print(type(A))\n",
    "print(type(B))"
   ]
  },
  {
   "cell_type": "raw",
   "id": "ab2733b9-79a6-4460-bf51-6455a95805fc",
   "metadata": {},
   "source": [
    "2. What are the three different types of Boolean operators?\n",
    "\n",
    "Ans- The three types of Boolean Operators is:\n",
    "     1.\tAND\n",
    "     2.\tOR\n",
    "     3.\tNOT or AND NOT"
   ]
  },
  {
   "cell_type": "raw",
   "id": "f56dc43a-3877-4000-b24e-c3cf3c299228",
   "metadata": {},
   "source": [
    "3. Make a list of each Boolean operator's truth tables (i.e. every possible combination of Boolean values for the operator and what it evaluates).\n",
    "\n",
    "Ans- Truth Tables:\n",
    "Truth Table for AND Operator\n",
    "If a and b are inputs and c is output\n",
    "a\tb\tc\tWhat it evaluates\n",
    "0\t0\t0\tFalse AND false is false\n",
    "1\t0\t0\tTrue AND false is false\n",
    "0\t1\t0\tFalse AND true is false\n",
    "1\t1\t1\tTrue AND true is true\n",
    "\n",
    "Truth Table for OR Operator\n",
    "If a and b are inputs and c is output\n",
    "a\tb\tc\tWhat it evaluates\n",
    "0\t0\t0\tFalse OR false is false\n",
    "1\t0\t1\tTrue OR false is true\n",
    "0\t1\t1\tFalse OR true is true\n",
    "1\t1\t1\tTrue OR true is true\n",
    "\n",
    "Truth Table for NOT Operator\n",
    "If condition is a and output is c\n",
    " a\tc\tWhat it evaluates\n",
    "1\t0\tIf condition is true, returns false\n",
    "0\t1\tIf condition is false, returns true"
   ]
  },
  {
   "cell_type": "code",
   "execution_count": 10,
   "id": "5a5c99ae-1e96-4eb9-a378-7581cc7e2368",
   "metadata": {},
   "outputs": [
    {
     "name": "stdout",
     "output_type": "stream",
     "text": [
      "True\n",
      "False\n",
      "True\n",
      "True\n",
      "False\n",
      "True\n"
     ]
    }
   ],
   "source": [
    "x=6\n",
    "print((x>0) and (x+1==7))\n",
    "print((x>10) and (x==6))\n",
    "print((x<0) or (x==6))\n",
    "print((x>10) or (x==6))\n",
    "print((x+2==8) and not (x>0))\n",
    "print(not x>10)"
   ]
  },
  {
   "cell_type": "raw",
   "id": "e9aee0c4-267a-4236-86a2-ace52428ffa0",
   "metadata": {},
   "source": [
    "4. What are the values of the following expressions?\n",
    "•\t(5 > 4) and (3 == 5) \n",
    "•\tnot (5 > 4)\n",
    "•\t(5 > 4) or (3 == 5)\n",
    "•\tnot ((5 > 4) or (3 == 5))\n",
    "•\t(True and True) and (True == False)\n",
    "•\t(not False) or (not True)"
   ]
  },
  {
   "cell_type": "code",
   "execution_count": 11,
   "id": "8f5435f4-14ba-408d-bf76-755d9fa9cf48",
   "metadata": {},
   "outputs": [
    {
     "name": "stdout",
     "output_type": "stream",
     "text": [
      "False\n",
      "False\n",
      "True\n",
      "False\n",
      "False\n",
      "True\n"
     ]
    }
   ],
   "source": [
    "print((5 > 4) and (3 == 5))\n",
    "print(not (5 > 4))\n",
    "print((5 > 4) or (3 == 5))\n",
    "print(not ((5 > 4) or (3 == 5)))\n",
    "print((True and True) and (True == False))\n",
    "print((not False) or (not True))"
   ]
  },
  {
   "cell_type": "raw",
   "id": "f5d15a77-4472-4836-8f36-c7bfec190eda",
   "metadata": {},
   "source": [
    "1. false as 3 is not equal to 5 and as and operator is used both of them should be true \n",
    "2. false as not operator returns false if condition is true and 5>4 is true\n",
    "3. true as or is used snd one of them is true\n",
    "4. false as not returns false if condition true and or is used where 5>4 is true i.e one is true'\n",
    "5. false as and is used and true is not equal to false\n",
    "6. true as or is used and if one is true it returns true. here not false is true."
   ]
  },
  {
   "cell_type": "raw",
   "id": "7f5bbd6d-6433-4fdb-bbed-a76b4caabeb7",
   "metadata": {},
   "source": [
    "5. What are the six comparison operators?\n",
    "\n",
    "Ans- The six comparison operators are:\n",
    "     1.Greater than(>)\n",
    "     2.Less than(<)\n",
    "     3.Is equal to(==)\n",
    "     4.Is not equal to(!=)\n",
    "     5.Greater than or equal to(>=)\n",
    "     6.Less than or equal to(<=)"
   ]
  },
  {
   "cell_type": "code",
   "execution_count": 17,
   "id": "f8401dd3-8a87-4d17-acec-987c7f8f95c5",
   "metadata": {},
   "outputs": [
    {
     "name": "stdout",
     "output_type": "stream",
     "text": [
      "False\n",
      "True\n",
      "False\n",
      "True\n",
      "False\n",
      "True\n"
     ]
    }
   ],
   "source": [
    "a=10\n",
    "b=40\n",
    "print(a>b)\n",
    "print(a<b)\n",
    "print(a==b)\n",
    "print(a!=b)\n",
    "print(a>=b)\n",
    "print(a<=b)"
   ]
  },
  {
   "cell_type": "raw",
   "id": "e72a322b-a1e6-46e7-8fe3-96ac27a6bc4d",
   "metadata": {},
   "source": [
    "6. How do you tell the difference between the equal to and assignment operators?\n",
    "Describe a condition and when you would use one.\n",
    "\n",
    "Ans- equal to(==) operator is used to compare two variable where as assignment opertor is used to assign a value to a \n",
    "     variable.\n",
    "     Two conditions:\n",
    "            1.a and b are equal then a==b(if they have same values it returns true)--equal to\n",
    "            2.a and b are 10 and 30 respectively.(a=10,b=30)--assigment operator."
   ]
  },
  {
   "cell_type": "code",
   "execution_count": 22,
   "id": "e2db2bce-d058-41c2-99c6-f647a526de16",
   "metadata": {},
   "outputs": [
    {
     "name": "stdout",
     "output_type": "stream",
     "text": [
      "False\n",
      "Value of a is: 10\n",
      "Value of b is: 30\n"
     ]
    }
   ],
   "source": [
    "a=10\n",
    "b=30\n",
    "print(a==b)\n",
    "print(\"Value of a is:\",a)\n",
    "print(\"Value of b is:\",b)"
   ]
  },
  {
   "cell_type": "code",
   "execution_count": 25,
   "id": "75b1d9a1-75bb-4a9b-8358-7a61cad837a7",
   "metadata": {},
   "outputs": [
    {
     "name": "stdout",
     "output_type": "stream",
     "text": [
      "ham\n",
      "spam\n",
      "spam\n"
     ]
    }
   ],
   "source": [
    "#7. Identify the three blocks in this code:\n",
    "spam = 0\n",
    "if spam == 10:\n",
    " print('eggs')\n",
    "if spam > 5:\n",
    " print('bacon')\n",
    "else:\n",
    " print('ham')\n",
    " print('spam')\n",
    " print('spam')"
   ]
  },
  {
   "cell_type": "raw",
   "id": "f5162a56-9f60-4a33-8f27-dd9254eebb93",
   "metadata": {},
   "source": [
    "Ans- As spam is equal to 0 which is not equal to 10 and not greater then 5 it will return else block."
   ]
  },
  {
   "cell_type": "raw",
   "id": "05cfed5f-4717-46eb-961c-e2b77c2d8858",
   "metadata": {},
   "source": [
    "8. Write code that prints Hello if 1 is stored in spam, prints Howdy if 2 is stored in spam, and prints Greetings! \n",
    "if anything else is stored in spam.  "
   ]
  },
  {
   "cell_type": "code",
   "execution_count": 30,
   "id": "b0cbfc6b-2621-4922-8674-86bc47cc67e4",
   "metadata": {},
   "outputs": [
    {
     "name": "stdout",
     "output_type": "stream",
     "text": [
      "Greetings!\n"
     ]
    }
   ],
   "source": [
    "spam = 11\n",
    "if spam == 1:\n",
    "    print(\"Hello\")\n",
    "elif spam == 2:\n",
    "    print(\"Howdy\")\n",
    "else:\n",
    "    print(\"Greetings!\")\n",
    "    "
   ]
  },
  {
   "cell_type": "raw",
   "id": "7e2d6ec5-e155-4f2a-8dbd-ff220830a6df",
   "metadata": {},
   "source": [
    "9.If your programme is stuck in an endless loop, what keys you’ll press?\n",
    "\n",
    "Ans- CTRL + C should be pressed."
   ]
  },
  {
   "cell_type": "raw",
   "id": "9a9a04e9-e59f-4512-b719-ea71b6269187",
   "metadata": {},
   "source": [
    "10. How can you tell the difference between break and continue?\n",
    "\n",
    "Ans- Break when used terminates the loop/code when specified condition is met whereas continue is used \n",
    "     to escape the left out code for current iteration only."
   ]
  },
  {
   "cell_type": "code",
   "execution_count": null,
   "id": "ff0efc43-9d3d-41d1-ae3e-19b0014a3edf",
   "metadata": {},
   "outputs": [],
   "source": [
    "11. In a for loop, what is the difference between range(10), range(0, 10), and range(0, 10, 1)?\n",
    "\n",
    "Ans- range(10) - specifies limit where to stop\n",
    "     range(0,10) - specifies limit where to start and stop\n",
    "     range(0,10,1) - specifies limit where to start,stop and step i.e it takes a step of 1 "
   ]
  },
  {
   "cell_type": "raw",
   "id": "51de27e1-29e6-4c8e-91b6-e466a5bb8fe1",
   "metadata": {},
   "source": [
    "12. Write a short program that prints the numbers 1 to 10 using a for loop. \n",
    "    Then write an equivalent program that prints the numbers 1 to 10 using a while loop."
   ]
  },
  {
   "cell_type": "code",
   "execution_count": 2,
   "id": "52f429ce-7af6-4164-a14b-7ebb5a4252bb",
   "metadata": {},
   "outputs": [
    {
     "name": "stdout",
     "output_type": "stream",
     "text": [
      "1\n",
      "2\n",
      "3\n",
      "4\n",
      "5\n",
      "6\n",
      "7\n",
      "8\n",
      "9\n",
      "10\n"
     ]
    }
   ],
   "source": [
    "for i in range(1,11):\n",
    "    print(i)\n",
    "    "
   ]
  },
  {
   "cell_type": "code",
   "execution_count": 1,
   "id": "7fe5d255-f784-4bb1-a0fd-36493ad3a4e7",
   "metadata": {},
   "outputs": [
    {
     "name": "stdout",
     "output_type": "stream",
     "text": [
      "1\n",
      "2\n",
      "3\n",
      "4\n",
      "5\n",
      "6\n",
      "7\n",
      "8\n",
      "9\n",
      "10\n"
     ]
    }
   ],
   "source": [
    "i=1\n",
    "while(i<11):\n",
    "    print(i)\n",
    "    i+=1"
   ]
  },
  {
   "cell_type": "code",
   "execution_count": null,
   "id": "b8f23d79-e1a2-4689-a739-a44a43d22030",
   "metadata": {},
   "outputs": [],
   "source": [
    "13. If you had a function named bacon() inside a module named spam, how would you call it after importing spam?\n",
    "\n",
    "Ans- The function will be called by spam.bacon() "
   ]
  }
 ],
 "metadata": {
  "kernelspec": {
   "display_name": "Python 3 (ipykernel)",
   "language": "python",
   "name": "python3"
  },
  "language_info": {
   "codemirror_mode": {
    "name": "ipython",
    "version": 3
   },
   "file_extension": ".py",
   "mimetype": "text/x-python",
   "name": "python",
   "nbconvert_exporter": "python",
   "pygments_lexer": "ipython3",
   "version": "3.10.6"
  }
 },
 "nbformat": 4,
 "nbformat_minor": 5
}
