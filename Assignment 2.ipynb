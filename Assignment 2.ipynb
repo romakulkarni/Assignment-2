{
 "cells": [
  {
   "cell_type": "code",
   "execution_count": null,
   "id": "6703aa55-233e-474d-b302-17a868d784e4",
   "metadata": {},
   "outputs": [],
   "source": [
    "1.What are the two values of the Boolean data type? How do you write them?\n",
    " Ans- The two values of Boolean data type are true and false.\n",
    "          True is written as 1 and False as 0\n"
   ]
  },
  {
   "cell_type": "code",
   "execution_count": 4,
   "id": "2566dbda-1f84-46d9-98df-f76c11cd6407",
   "metadata": {},
   "outputs": [
    {
     "name": "stdout",
     "output_type": "stream",
     "text": [
      "<class 'bool'>\n",
      "<class 'bool'>\n"
     ]
    }
   ],
   "source": [
    "A=True\n",
    "B=False\n",
    "print(type(A))\n",
    "print(type(B))\n"
   ]
  },
  {
   "cell_type": "code",
   "execution_count": null,
   "id": "5bc15cac-8aef-4814-8ab1-d6f3c221ab01",
   "metadata": {},
   "outputs": [],
   "source": []
  }
 ],
 "metadata": {
  "kernelspec": {
   "display_name": "Python 3 (ipykernel)",
   "language": "python",
   "name": "python3"
  },
  "language_info": {
   "codemirror_mode": {
    "name": "ipython",
    "version": 3
   },
   "file_extension": ".py",
   "mimetype": "text/x-python",
   "name": "python",
   "nbconvert_exporter": "python",
   "pygments_lexer": "ipython3",
   "version": "3.10.6"
  }
 },
 "nbformat": 4,
 "nbformat_minor": 5
}
